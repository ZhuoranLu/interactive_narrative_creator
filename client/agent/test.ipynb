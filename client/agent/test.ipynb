{
 "cells": [
  {
   "cell_type": "code",
   "execution_count": 5,
   "id": "e1c5712b-bacb-4cc1-8732-2bf3c34c5460",
   "metadata": {},
   "outputs": [],
   "source": [
    "import sys\n",
    "from sklearn.model_selection import train_test_split\n",
    "import pandas as pd\n",
    "# 1️⃣  add the src directory to sys.path  (only once per kernel)\n",
    "sys.path.append(\"/Users/zhuoyanl/Desktop/project/interactive_narrative_creator/client/agent\")\n"
   ]
  },
  {
   "cell_type": "code",
   "execution_count": 6,
   "id": "c0731363-9773-4224-8e88-3570c56db330",
   "metadata": {},
   "outputs": [],
   "source": [
    "from narrative_generator import NarrativeGenerator, create_story_from_idea, continue_story\n"
   ]
  },
  {
   "cell_type": "code",
   "execution_count": 7,
   "id": "950d1618-78e1-4bb1-a167-109a27e36b12",
   "metadata": {},
   "outputs": [],
   "source": [
    "idea = \"\"\"出了地下室，唐宇要去的地方是方正电子厂，厂子不大，是一个私营的小企业，唐宇在里面干了正好一个月，因为太累，而且还要加班到夜里十二点，唐宇准备要了工钱，就不干了。走在小区的路上，突然听到了一阵叫喊的声音，唐宇抬头瞧去，看到几个穿着很潮，头发染的五连六色，各种造型的家伙正在围着两个女孩嘻嘻哈哈的，口中还不时的喷出污秽的话来。唐宇是不是那种路见不平就拔刀相助的人，不过从背影看去，看到两个身材极佳的女孩，便动了恻隐之心，而且这几个痞子唐宇似乎还有些熟悉，便走上前去。 走了几步，唐宇心头猛然一颤，那两个女孩，不是别人，正是自己班级的夏诗涵和张静。 “干什么，快滚开！”张静大声的吼到，表情惨白，十分的害怕。而在她旁边还有一个长得十分漂亮的女孩，同样十分的害怕。\n",
    "\n",
    "    “干什么，兄弟们想干你们！小妞，长得这么漂亮不就是给哥们玩的吗？我知道你们是静海中学的学生，而且还有几个月就高考了，现在压力那么大，一起陪我们去释放释放，不是说劳逸结合嘛，哈哈哈哈哈……”其中一个染着黄头发的男子眼睛直勾勾的盯着两个女孩的身子，口水都流了出来。\n",
    "\n",
    "    黄头发外号刀哥，是静海校园周边的小混混头目之一，中午的时候看到两个女孩朝小区走来，就一路尾随，见她们上了楼，估摸着回家。他们再大胆，这朗朗乾坤，光天化日也不敢入室为非作歹，于是就等着她们下楼来，然后再抓住她们，带到其他地方作案。料想着反正她们都是高中生，就算被那个了，碍于面子也只能忍忍算了。\n",
    "\n",
    "    夏诗涵和张静听到了他们口中的脏话，心中更加的惊惧。小区里面并没有人走动，而且她们是被围在巷子里面，就算喊，也不会有人听到。而且她们知道，如果被面前的几个家伙抓住，肯定难以逃脱，甚至被……她们不敢想……\n",
    "\n",
    "    夏诗涵急的眼泪都流了出来，不知如何是好。她还是第一次被小混混围住，难道这一次真的逃不掉了吗？\n",
    "\n",
    "    “上，抓住她们！”刀哥得意的笑道。其他的几个家伙听到之后，十分的兴奋，每个人都如同饥渴多日的恶狼朝着夏诗涵和张静的方向扑过去。\n",
    "\n",
    "    “小刀！”突然之间，一个清脆的声音响了起来。\n",
    "\n",
    "    顿时几个家伙都停止下来，朝着声音传来的方向看去。\n",
    "\n",
    "    “麻痹，你谁呀，敢叫我们刀哥小刀，你找死吧你！”其中一个家伙染着红头发的家伙看着唐宇走过来，指着唐宇大骂。\n",
    "\n",
    "    “啪！”突然，红头发感觉到脸上一阵火辣辣的疼，再看身边，没有想到是刀哥扇的自己。“啊，刀哥，你怎么……”\n",
    "\n",
    "    不止几个小弟，张静和夏诗涵也是一脸的惊愣看着刀哥。他怎么自己打自己人？\n",
    "\n",
    "    “草泥马，还不快给唐哥认错。”别人没见过唐宇，他刀哥见过，而且被唐宇打的哭爹爹喊奶奶的。说着就颤抖的上前走去，“呵呵，唐哥，是您老人家呀，我还以为是谁呢。唐哥，我这个小弟不懂事，你想怎么处置就怎么处置。呵呵……”刀哥点头哈腰的对着唐宇小心翼翼的说道。\n",
    "\n",
    "    唐宇冷瞟了一眼刀哥，而这个时候其他的兄弟方才醒悟过来。来人可是刀哥的老大呀！\n",
    "\n",
    "    “唐哥！”“唐哥！”……\n",
    "\n",
    "    说着几个家伙都是走过来礼貌的叫道，尤其是那个骂了唐宇的红头发，浑身哆哆嗦嗦，生怕唐宇要他的命。\n",
    "\n",
    "    “唐宇！他不是我们班的唐宇吗？”张静刚才吓傻了，这才醒悟过来，看着唐宇，震惊的说道……\"\"\""
   ]
  },
  {
   "cell_type": "code",
   "execution_count": 8,
   "id": "4e6ce29b-b6b5-477d-90bb-7baac18e82d5",
   "metadata": {},
   "outputs": [],
   "source": [
    "idea2 = \"霍格沃茨魔法学校的新学期开始了，但今年有些不同寻常的事情发生, 你作为哈利波特，现在伏地魔复活了\""
   ]
  },
  {
   "cell_type": "code",
   "execution_count": 9,
   "id": "62095d9a-b367-4ed3-a8bd-301791a2102a",
   "metadata": {},
   "outputs": [
    {
     "name": "stdout",
     "output_type": "stream",
     "text": [
      "Azure OpenAI客户端初始化成功\n"
     ]
    }
   ],
   "source": [
    "generator = NarrativeGenerator()"
   ]
  },
  {
   "cell_type": "code",
   "execution_count": 10,
   "id": "c450cd0c-6dba-462e-9c65-a53c955c8aeb",
   "metadata": {},
   "outputs": [],
   "source": [
    "node = generator.bootstrap_node(idea2)"
   ]
  },
  {
   "cell_type": "code",
   "execution_count": 12,
   "id": "1d4d0805-f778-4307-a2d7-dbd9a3a30256",
   "metadata": {},
   "outputs": [
    {
     "data": {
      "text/plain": [
       "{'world_state': {'time': '晚上',\n",
       "  'location': '霍格沃茨大礼堂',\n",
       "  'characters': ['哈利·波特', '赫敏·格兰杰', '罗恩·韦斯莱', '阿不思·邓布利多'],\n",
       "  '伏地魔威胁程度': '未知',\n",
       "  '学校气氛': '紧张',\n",
       "  '哈利心理状态': '焦虑但坚定'},\n",
       " 'chapter_actions': [{'id': 'action_1',\n",
       "   'description': '向邓布利多提出主动调查伏地魔的线索。',\n",
       "   'navigation': 'continue',\n",
       "   'is_key_action': True,\n",
       "   'effects': {'world_state_changes': '哈利的主动性提升；伏地魔威胁程度可能被部分揭露；开启调查任务线'}},\n",
       "  {'id': 'action_2',\n",
       "   'description': '与赫敏和罗恩商量下一步行动，制定计划。',\n",
       "   'navigation': 'continue',\n",
       "   'is_key_action': True,\n",
       "   'effects': {'world_state_changes': '团队合作关系加强；可能获得额外线索或情报；开启团队任务线'}},\n",
       "  {'id': 'action_3',\n",
       "   'description': '留在原地观察周围学生的反应。',\n",
       "   'navigation': 'stay',\n",
       "   'is_key_action': False,\n",
       "   'response': '你注意到一些学生神情怪异，似乎知道些什么。',\n",
       "   'effects': {'world_state_changes': '可能发现可疑学生；伏地魔威胁程度略增加'}},\n",
       "  {'id': 'action_4',\n",
       "   'description': '试着平静下来，与罗恩聊聊他对局势的看法。',\n",
       "   'navigation': 'stay',\n",
       "   'is_key_action': False,\n",
       "   'response': '罗恩表示他很害怕，但相信你一定能找到办法。',\n",
       "   'effects': {'world_state_changes': '团队成员信任度增加；哈利心理状态稍微平稳'}}]}"
      ]
     },
     "execution_count": 12,
     "metadata": {},
     "output_type": "execute_result"
    }
   ],
   "source": [
    "node.metadata"
   ]
  },
  {
   "cell_type": "code",
   "execution_count": 39,
   "id": "765f1513-0a99-45d7-840a-81d22b2c078d",
   "metadata": {},
   "outputs": [],
   "source": [
    "a = generator.generate_next_node(node, node.metadata['world_state'],node.outgoing_actions[0].action)"
   ]
  },
  {
   "cell_type": "code",
   "execution_count": 40,
   "id": "5768499b-90d1-4375-9a8d-eeee8f736649",
   "metadata": {},
   "outputs": [
    {
     "data": {
      "text/plain": [
       "Node(id='7188daf1-fff9-4834-b7e2-7d4340f4aec4', scene=\"哈利低声对赫敏和罗恩说道：'昨晚我又做了一个梦……伏地魔，他……他又出现了。'赫敏的眉头立刻蹙起，放下手中的书，专注地看着哈利。她问道：'梦里还有什么细节？任何线索都可能有帮助。'罗恩的脸色变得苍白，他吞了口唾沫，小声嘟囔着：'又是伏地魔？这可不妙。'大厅里的喧闹声似乎渐渐远去，仿佛整个世界都静止了片刻。就在这时，哈利突然感觉到手中的课程表微微发烫，仿佛有什么魔法正在激活。他低头一看，发现课程表上出现了一行奇怪的文字：'黑暗的命运已悄然降临，密室的钥匙藏在古老的遗迹中。'赫敏立刻注意到了课程表的变化，她站起来，语气坚定地说道：'我们必须弄清楚这是什么意思，也许这就是线索。'罗恩却显得犹豫不决：'但这看起来很危险，真的要去追查吗？'\", node_type=<NodeType.SCENE: 'scene'>, events=[Event(id='eb3d2bee-3f2c-448e-9db8-93feccc7e438', speaker='路过的学生', content='听说昨天晚上禁林里有奇怪的声音，你觉得会是什么？', timestamp=1, event_type='dialogue', metadata={}, description='', actions=[]), Event(id='aeeb9405-e822-4c95-a0ba-42dba69139ff', speaker='', content='窗外的天空渐渐阴沉，乌云开始聚集。', timestamp=2, event_type='narration', metadata={}, description='', actions=[])], outgoing_actions=[ActionBinding(action=Action(id='action_1', description='和赫敏一起研究课程表上的文字，试图找到线索。', is_key_action=True, metadata={'navigation': 'continue', 'response': '', 'effects': {'world_state_changes': {'赫敏的态度': '更加专注', '哈利的情绪': '稍微缓解', '发现线索': '可能的密室位置'}}}), target_node=None, target_event=None), ActionBinding(action=Action(id='action_2', description='劝说罗恩加入，提议去图书馆寻找相关资料。', is_key_action=True, metadata={'navigation': 'stay', 'response': '', 'effects': {'world_state_changes': {'罗恩的态度': '从犹豫到勉强同意', '团队': '更加团结'}}}), target_node=None, target_event=None), ActionBinding(action=Action(id='action_3', description='决定暂时忽略课程表的文字，继续日常安排。', is_key_action=True, metadata={'navigation': 'stay', 'response': '你试图忽略课程表上的文字，但内心的不安却挥之不去。', 'effects': {'world_state_changes': {'哈利的情绪': '焦虑加重', '伏地魔的影响': '更加明显'}}}), target_node=None, target_event=None), ActionBinding(action=Action(id='action_4', description='尝试使用魔杖对课程表施法，看能否解读文字的秘密。', is_key_action=True, metadata={'navigation': 'continue', 'response': '', 'effects': {'world_state_changes': {'发现线索': '文字的魔法来源', '事件': '课程表出现新的提示'}}}), target_node=None, target_event=None)], metadata={'world_state': {'time': '上午9点30分', 'location': '霍格沃茨大厅', 'characters': ['哈利波特', '赫敏·格兰杰', '罗恩·韦斯莱', '德拉科·马尔福'], 'key_facts': ['哈利的课程表出现神秘文字', '伏地魔复活正在影响霍格沃茨', '赫敏决定追查线索']}, 'chapter_actions': [{'id': 'action_1', 'description': '和赫敏一起研究课程表上的文字，试图找到线索。', 'navigation': 'continue', 'is_key_action': True, 'effects': {'world_state_changes': {'赫敏的态度': '更加专注', '哈利的情绪': '稍微缓解', '发现线索': '可能的密室位置'}}}, {'id': 'action_2', 'description': '劝说罗恩加入，提议去图书馆寻找相关资料。', 'navigation': 'stay', 'is_key_action': True, 'effects': {'world_state_changes': {'罗恩的态度': '从犹豫到勉强同意', '团队': '更加团结'}}}, {'id': 'action_3', 'description': '决定暂时忽略课程表的文字，继续日常安排。', 'navigation': 'stay', 'is_key_action': True, 'response': '你试图忽略课程表上的文字，但内心的不安却挥之不去。', 'effects': {'world_state_changes': {'哈利的情绪': '焦虑加重', '伏地魔的影响': '更加明显'}}}, {'id': 'action_4', 'description': '尝试使用魔杖对课程表施法，看能否解读文字的秘密。', 'navigation': 'continue', 'is_key_action': True, 'effects': {'world_state_changes': {'发现线索': '文字的魔法来源', '事件': '课程表出现新的提示'}}}]})"
      ]
     },
     "execution_count": 40,
     "metadata": {},
     "output_type": "execute_result"
    }
   ],
   "source": [
    "a"
   ]
  },
  {
   "cell_type": "code",
   "execution_count": 17,
   "id": "0e173590-4180-4dc5-977d-c7ffa0206c6d",
   "metadata": {},
   "outputs": [],
   "source": [
    "new_node = generator.apply_action(new_node[0], 'action_3', node.metadata['world_state'])"
   ]
  },
  {
   "cell_type": "code",
   "execution_count": 20,
   "id": "c3a729c0-1331-4793-8159-396cabf47399",
   "metadata": {},
   "outputs": [
    {
     "data": {
      "text/plain": [
       "(Node(id='92082615-f9fd-41ee-95f4-da1b24341a6a', scene='唐宇微微皱眉，冷冷地扫视刀哥和他的混混小弟们，语气低沉却不容置疑地说道：“向她们道歉，立刻。”刀哥脸色一变，迅速低头哈腰，语气谦卑：“是，唐哥，我们错了！”他带头向夏诗涵和张静鞠了个90度的躬，混混们也纷纷跟着赔礼道歉。夏诗涵的脸上露出一丝惊讶，而张静则终于放松下来，嘴唇微微抿起。巷子里一时间只剩下低声的道歉回荡。刀哥小心翼翼地问唐宇：“唐哥，您看我们还能做点什么？”唐宇冷冷地瞥了他一眼，沉声道：“滚吧，再让我看到你们欺负人，后果自负。”刀哥连连点头，带着小弟们狼狈离开。巷子恢复了宁静，夏诗涵犹豫着开口：“唐宇，谢谢你……今天如果不是你，我们……”张静也轻声附和：“对，谢谢你。”唐宇目光复杂地看着她们，没有回应。天色渐暗，远处灯光逐渐亮起，巷子里蒙上了一层朦胧的光。', node_type=<NodeType.SCENE: 'scene'>, events=[Event(id='05f7d038-eda6-412b-970e-5d2e3fdf88f3', speaker='', content='远处传来小区里的孩子嬉笑声，隐约夹杂着自行车铃的响声。', timestamp=1, event_type='narration', metadata={}, description='', actions=[]), Event(id='38cee4cd-03db-46a1-b74a-8a8b556d498b', speaker='', content='一盏路灯忽然闪了两下，随后亮了起来，巷子里的光线稍显明亮。', timestamp=2, event_type='narration', metadata={}, description='', actions=[])], outgoing_actions=[ActionBinding(action=Action(id='action_1', description='安慰夏诗涵和张静，询问她们是否需要送回家', is_key_action=True, metadata={'navigation': 'continue', 'response': '', 'effects': {'world_state_changes': '唐宇与两位女生关系进一步缓和，她们对唐宇更加信任。'}}), target_node=None, target_event=None), ActionBinding(action=Action(id='action_2', description='沉默不语，转身离开巷子', is_key_action=True, metadata={'navigation': 'continue', 'response': '', 'effects': {'world_state_changes': '唐宇展现出冷漠的一面，与女生们关系变得疏远。'}}), target_node=None, target_event=None), ActionBinding(action=Action(id='action_3', description='提议报警并让女生们自己处理后续问题', is_key_action=True, metadata={'navigation': 'stay', 'response': '', 'effects': {'world_state_changes': '唐宇与女生们关系保持距离，她们对唐宇的印象变得复杂。'}}), target_node=None, target_event=None), ActionBinding(action=Action(id='action_4', description='留下来观察巷子是否还有其他隐患', is_key_action=False, metadata={'navigation': 'stay', 'response': '', 'effects': {'world_state_changes': '唐宇表现出谨慎的一面，可能发现潜在问题。'}}), target_node=None, target_event=None)], metadata={'world_state': {'time': '傍晚，天色渐暗', 'location': '静海小区的狭窄巷子', 'characters': ['唐宇', '夏诗涵', '张静'], 'key_facts': ['刀哥及其混混们被唐宇驱逐', '夏诗涵和张静对唐宇心生感激', '唐宇展现了强大的威望']}, 'chapter_actions': [{'id': 'action_1', 'description': '安慰夏诗涵和张静，询问她们是否需要送回家', 'navigation': 'continue', 'is_key_action': True, 'effects': {'world_state_changes': '唐宇与两位女生关系进一步缓和，她们对唐宇更加信任。'}}, {'id': 'action_2', 'description': '沉默不语，转身离开巷子', 'navigation': 'continue', 'is_key_action': True, 'effects': {'world_state_changes': '唐宇展现出冷漠的一面，与女生们关系变得疏远。'}}, {'id': 'action_3', 'description': '提议报警并让女生们自己处理后续问题', 'navigation': 'stay', 'is_key_action': True, 'effects': {'world_state_changes': '唐宇与女生们关系保持距离，她们对唐宇的印象变得复杂。'}}, {'id': 'action_4', 'description': '留下来观察巷子是否还有其他隐患', 'navigation': 'stay', 'is_key_action': False, 'effects': {'world_state_changes': '唐宇表现出谨慎的一面，可能发现潜在问题。'}}]}),\n",
       " {'time': '傍晚，天色微暗',\n",
       "  'location': '静海小区的狭窄巷子',\n",
       "  'characters': ['唐宇', '夏诗涵', '张静', '刀哥', '混混小弟们'],\n",
       "  'relationships': {'唐宇与刀哥': '曾经教训过刀哥，刀哥对唐宇畏惧',\n",
       "   '唐宇与夏诗涵': '同班同学，关系普通',\n",
       "   '唐宇与张静': '同班同学，关系普通',\n",
       "   '夏诗涵与张静': '好友，两人经常一起行动'},\n",
       "  'action_history': [{'type': 'continue_action',\n",
       "    'action': '威胁刀哥并要求他向两位女生道歉',\n",
       "    'effects': '刀哥忐忑地向女生们道歉，混混们低头认错，唐宇的威望进一步提升。夏诗涵和张静对唐宇心生感激。'}]},\n",
       " '你选择了：威胁刀哥并要求他向两位女生道歉。剧情继续发展...')"
      ]
     },
     "execution_count": 20,
     "metadata": {},
     "output_type": "execute_result"
    }
   ],
   "source": [
    "new_node"
   ]
  },
  {
   "cell_type": "code",
   "execution_count": null,
   "id": "38d04a73-1932-4261-a7f3-1bff33f628ed",
   "metadata": {},
   "outputs": [],
   "source": []
  }
 ],
 "metadata": {
  "kernelspec": {
   "display_name": "Python 3 (ipykernel)",
   "language": "python",
   "name": "python3"
  },
  "language_info": {
   "codemirror_mode": {
    "name": "ipython",
    "version": 3
   },
   "file_extension": ".py",
   "mimetype": "text/x-python",
   "name": "python",
   "nbconvert_exporter": "python",
   "pygments_lexer": "ipython3",
   "version": "3.9.6"
  }
 },
 "nbformat": 4,
 "nbformat_minor": 5
}
