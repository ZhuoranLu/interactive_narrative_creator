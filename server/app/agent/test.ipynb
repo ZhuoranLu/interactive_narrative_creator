{
 "cells": [
  {
   "cell_type": "code",
   "execution_count": 1,
   "id": "e1c5712b-bacb-4cc1-8732-2bf3c34c5460",
   "metadata": {},
   "outputs": [],
   "source": [
    "import sys\n",
    "from sklearn.model_selection import train_test_split\n",
    "import pandas as pd\n",
    "# 1️⃣  add the src directory to sys.path  (only once per kernel)\n",
    "sys.path.append(\"/Users/zhuoyanl/Desktop/project/interactive_narrative_creator/client/agent\")\n"
   ]
  },
  {
   "cell_type": "code",
   "execution_count": 2,
   "id": "c0731363-9773-4224-8e88-3570c56db330",
   "metadata": {},
   "outputs": [],
   "source": [
    "from narrative_generator import NarrativeGenerator, create_story_from_idea, continue_story\n",
    "from llm_client import LLMClient"
   ]
  },
  {
   "cell_type": "code",
   "execution_count": 3,
   "id": "950d1618-78e1-4bb1-a167-109a27e36b12",
   "metadata": {},
   "outputs": [],
   "source": [
    "idea = \"\"\"出了地下室，唐宇要去的地方是方正电子厂，厂子不大，是一个私营的小企业，唐宇在里面干了正好一个月，因为太累，而且还要加班到夜里十二点，唐宇准备要了工钱，就不干了。走在小区的路上，突然听到了一阵叫喊的声音，唐宇抬头瞧去，看到几个穿着很潮，头发染的五连六色，各种造型的家伙正在围着两个女孩嘻嘻哈哈的，口中还不时的喷出污秽的话来。唐宇是不是那种路见不平就拔刀相助的人，不过从背影看去，看到两个身材极佳的女孩，便动了恻隐之心，而且这几个痞子唐宇似乎还有些熟悉，便走上前去。 走了几步，唐宇心头猛然一颤，那两个女孩，不是别人，正是自己班级的夏诗涵和张静。 “干什么，快滚开！”张静大声的吼到，表情惨白，十分的害怕。而在她旁边还有一个长得十分漂亮的女孩，同样十分的害怕。\n",
    "\n",
    "    “干什么，兄弟们想干你们！小妞，长得这么漂亮不就是给哥们玩的吗？我知道你们是静海中学的学生，而且还有几个月就高考了，现在压力那么大，一起陪我们去释放释放，不是说劳逸结合嘛，哈哈哈哈哈……”其中一个染着黄头发的男子眼睛直勾勾的盯着两个女孩的身子，口水都流了出来。\n",
    "\n",
    "    黄头发外号刀哥，是静海校园周边的小混混头目之一，中午的时候看到两个女孩朝小区走来，就一路尾随，见她们上了楼，估摸着回家。他们再大胆，这朗朗乾坤，光天化日也不敢入室为非作歹，于是就等着她们下楼来，然后再抓住她们，带到其他地方作案。料想着反正她们都是高中生，就算被那个了，碍于面子也只能忍忍算了。\n",
    "\n",
    "    夏诗涵和张静听到了他们口中的脏话，心中更加的惊惧。小区里面并没有人走动，而且她们是被围在巷子里面，就算喊，也不会有人听到。而且她们知道，如果被面前的几个家伙抓住，肯定难以逃脱，甚至被……她们不敢想……\n",
    "\n",
    "    夏诗涵急的眼泪都流了出来，不知如何是好。她还是第一次被小混混围住，难道这一次真的逃不掉了吗？\n",
    "\n",
    "    “上，抓住她们！”刀哥得意的笑道。其他的几个家伙听到之后，十分的兴奋，每个人都如同饥渴多日的恶狼朝着夏诗涵和张静的方向扑过去。\n",
    "\n",
    "    “小刀！”突然之间，一个清脆的声音响了起来。\n",
    "\n",
    "    顿时几个家伙都停止下来，朝着声音传来的方向看去。\n",
    "\n",
    "    “麻痹，你谁呀，敢叫我们刀哥小刀，你找死吧你！”其中一个家伙染着红头发的家伙看着唐宇走过来，指着唐宇大骂。\n",
    "\n",
    "    “啪！”突然，红头发感觉到脸上一阵火辣辣的疼，再看身边，没有想到是刀哥扇的自己。“啊，刀哥，你怎么……”\n",
    "\n",
    "    不止几个小弟，张静和夏诗涵也是一脸的惊愣看着刀哥。他怎么自己打自己人？\n",
    "\n",
    "    “草泥马，还不快给唐哥认错。”别人没见过唐宇，他刀哥见过，而且被唐宇打的哭爹爹喊奶奶的。说着就颤抖的上前走去，“呵呵，唐哥，是您老人家呀，我还以为是谁呢。唐哥，我这个小弟不懂事，你想怎么处置就怎么处置。呵呵……”刀哥点头哈腰的对着唐宇小心翼翼的说道。\n",
    "\n",
    "    唐宇冷瞟了一眼刀哥，而这个时候其他的兄弟方才醒悟过来。来人可是刀哥的老大呀！\n",
    "\n",
    "    “唐哥！”“唐哥！”……\n",
    "\n",
    "    说着几个家伙都是走过来礼貌的叫道，尤其是那个骂了唐宇的红头发，浑身哆哆嗦嗦，生怕唐宇要他的命。\n",
    "\n",
    "    “唐宇！他不是我们班的唐宇吗？”张静刚才吓傻了，这才醒悟过来，看着唐宇，震惊的说道……\"\"\""
   ]
  },
  {
   "cell_type": "code",
   "execution_count": 7,
   "id": "4e6ce29b-b6b5-477d-90bb-7baac18e82d5",
   "metadata": {},
   "outputs": [],
   "source": [
    "idea2 = \"霍格沃茨魔法学校的新学期开始了，但今年有些不同寻常的事情发生, 你作为哈利波特，现在伏地魔复活了\""
   ]
  },
  {
   "cell_type": "code",
   "execution_count": 4,
   "id": "62095d9a-b367-4ed3-a8bd-301791a2102a",
   "metadata": {},
   "outputs": [
    {
     "name": "stdout",
     "output_type": "stream",
     "text": [
      "Azure OpenAI客户端初始化成功\n"
     ]
    }
   ],
   "source": [
    "generator = NarrativeGenerator(LLMClient(), world_setting=\"我的贴身校花 小说\",style=\"恋爱奇幻色情\")"
   ]
  },
  {
   "cell_type": "code",
   "execution_count": 5,
   "id": "c450cd0c-6dba-462e-9c65-a53c955c8aeb",
   "metadata": {},
   "outputs": [
    {
     "name": "stdout",
     "output_type": "stream",
     "text": [
      "动作选择响应: {'choices': [{'id': 'action_1', 'description': '唐宇冷冷地命令刀哥，让他的手下滚开，并且亲自护送夏诗涵和张静离开巷子。', 'navigation': 'continue', 'effects': {'world_state_changes': '刀哥和小混混们忌惮唐宇的威势，狼狈离开。夏诗涵和张静对唐宇的勇敢产生好感，情节进入更深的互动阶段。'}}, {'id': 'action_2', 'description': '唐宇用一种凌厉的语气警告刀哥，要求他立即向两名女孩道歉并发誓不再骚扰她们。', 'navigation': 'stay', 'response': '刀哥满脸恐惧地向夏诗涵和张静道歉，场面短暂冷却，但两名女孩仍然惊魂未定。', 'effects': {'world_state_changes': '唐宇的威信再次得到体现，现场紧张气氛逐渐缓和，但女孩们对事件的恐惧仍未完全消退。'}}, {'id': 'action_3', 'description': '唐宇不发一言，只用锐利的目光扫视刀哥和他的手下，制造一种强烈的压迫感，让他们自动散开。', 'navigation': 'stay', 'response': '刀哥和小混混们被唐宇的气场震慑，不敢再造次，纷纷离开。女孩们对唐宇的神秘感到好奇。', 'effects': {'world_state_changes': '无形的威慑力让唐宇在女孩心中留下深刻印象，事件结束，唐宇的形象进一步升华。'}}, {'id': 'action_4', 'description': '唐宇要求刀哥交出手机并删除所有可能拍摄到的照片或视频，同时威胁若再犯便不再手下留情。', 'navigation': 'continue', 'effects': {'world_state_changes': '刀哥的恐惧达到巅峰，他立即服从命令。事件处理干净利落，唐宇展现了果断和保护欲，女孩们心中逐渐燃起信任。'}}]}\n"
     ]
    }
   ],
   "source": [
    "node = generator.bootstrap_node(idea)"
   ]
  },
  {
   "cell_type": "code",
   "execution_count": 8,
   "id": "0e7a7ee6-b2d8-48de-a22f-80e74061f62f",
   "metadata": {},
   "outputs": [
    {
     "name": "stdout",
     "output_type": "stream",
     "text": [
      "动作选择响应: {'actions': [{'id': 'action_1', 'description': '唐宇决定护送夏诗涵和张静回家，沿途保持警戒以防混混反扑。', 'navigation': 'continue', 'effects': {'world_state_changes': {'location': '从巷子转移到小区大门，环境变得安全但仍有一丝紧张气息。', 'characters': {'唐宇': '表现出冷静和保护欲，但内心警惕。', '夏诗涵': '稍微放松，但仍然紧张，开始对唐宇产生信任。', '张静': '情绪逐渐稳定，但对唐宇的依赖感增强。', '刀哥': '暂时退离，但内心愤恨，可能计划报复。'}}}}, {'id': 'action_2', 'description': '唐宇放下塑料袋，继续用冷冽的目光逼迫刀哥交代混混为何针对夏诗涵和张静。', 'navigation': 'stay', 'response': '刀哥慌乱下吐出一些含糊的理由，透露可能有幕后指使。', 'effects': {'world_state_changes': {'location': '巷子的气氛更加紧张，混混们感到压迫。', 'characters': {'唐宇': '展现强大的威慑力，但内心对幕后真相产生疑虑。', '刀哥': '畏惧加深，透露一些信息但仍然心存侥幸。', '红头发混混': '彻底恐慌，躲在刀哥身后不敢吭声。', '夏诗涵和张静': '对唐宇的保护感到依赖，但仍然害怕。'}}}}, {'id': 'action_3', 'description': '唐宇拿出手机，威胁刀哥说如果再犯，立刻报警并曝光他们的恶行。', 'navigation': 'stay', 'response': '刀哥和混混们更加惶恐，急忙保证不会再犯。', 'effects': {'world_state_changes': {'location': '巷子气氛稍缓，混混们散去但心有余悸。', 'characters': {'唐宇': '展现果断和理智，内心对警告效果感到满意。', '刀哥': '恐惧加剧，暂时不敢再接近唐宇或两位女孩。', '夏诗涵和张静': '感到安全感增强，但仍然心有余悸。'}}}}, {'id': 'action_4', 'description': '唐宇直接要求夏诗涵和张静解释为何会被混混围住，以确保后续安全。', 'navigation': 'stay', 'response': '夏诗涵和张静支支吾吾地透露，可能与她们偶然目击某些事件有关。', 'effects': {'world_state_changes': {'location': '巷子气氛转向对话，但仍有微弱的不安。', 'characters': {'唐宇': '内心更加警惕，对事件背后真相感到好奇。', '夏诗涵和张静': '对唐宇的询问感到压力，但逐渐信任他的判断力。'}}}}]}\n"
     ]
    }
   ],
   "source": [
    "a = generator.generate_next_node(node, node.metadata['world_state'],node.outgoing_actions[0].action)"
   ]
  },
  {
   "cell_type": "code",
   "execution_count": null,
   "id": "1d4d0805-f778-4307-a2d7-dbd9a3a30256",
   "metadata": {},
   "outputs": [],
   "source": []
  },
  {
   "cell_type": "code",
   "execution_count": 7,
   "id": "765f1513-0a99-45d7-840a-81d22b2c078d",
   "metadata": {},
   "outputs": [
    {
     "data": {
      "text/plain": [
       "Node(id='66165884-b5fd-44b5-9cd5-f623c3a1d549', scene='小区的路灯昏黄，光线像是被吞噬了一半，洒落在唐宇脚下斑驳的石板路上。他刚从地下室里出来，手里攥着一只皱巴巴的塑料袋，里面装着晚饭剩下的半盒饭，泛着一股油腻的味道。空气闷热，夹杂着远处厂区的机油味和金属敲击声。唐宇低着头，心里盘算着如何向老板开口要工钱。时间还早，方正电子厂的大门离这里不过半小时的路程，他不急着赶路。就在他漫不经心的脚步快要踏过小区的拐角时，一阵刺耳的叫喊声像箭一样刺破了夜的沉寂，带着某种不祥的震动，传进他的耳朵。\\n\\n他抬头，视线越过模糊的光影，落在巷子的尽头。几道晃动的人影格外刺眼。几个染着五颜六色头发的男人围着两名女孩大笑，笑声放肆又尖锐，像是在撕裂什么。他们的动作粗野，嘴里喷着污秽的词句，像是掷向空气中的石块。唐宇脚步顿了一下，他并不是喜欢多管闲事的人，但那两个女孩的背影让他心头一震——纤细的肩膀，慌乱的动作，熟悉得令人无法忽视。他的眉头微微皱起，脑海里闪过一个名字，随后又一个名字。他终于认出了她们——夏诗涵和张静，同班的两个女生。他的目光变得深沉起来，心里某种柔软的东西不由自主地涌动。唐宇握紧手中的塑料袋，向巷子走去，一股压迫感从他的脚步里渐渐散开。', node_type=<NodeType.SCENE: 'scene'>, events=[Event(id='6db75442-e836-4021-9efa-6f9498b5406c', speaker='路人甲', content='哎，你听说了吗？方正电子厂那个小老板又拖工钱了，前几天还有人堵他家门口呢。', timestamp=1, event_type='dialogue', metadata={}, description='', actions=[]), Event(id='4966783d-9c5c-41c6-8385-9de7a0f70df7', speaker='', content='小区的垃圾桶旁，几只瘦骨嶙峋的野猫正争抢一块被丢弃的鱼骨，发出刺耳的嘶叫声。旁边的空啤酒瓶在地上滚动，碰到石板路边缘，发出一声清脆的撞击。', timestamp=2, event_type='narration', metadata={}, description='', actions=[]), Event(id='1128b0bb-878e-438e-9e7c-7d0d8280c044', speaker='路人乙', content='这天怎么这么闷？厂区那边的机器声都听得特别烦人，没完没了，真是让人喘不过气来。', timestamp=3, event_type='dialogue', metadata={}, description='', actions=[]), Event(id='bcf52ae0-6073-451d-b7ec-00d8ff867318', speaker='', content='远处的小区楼道灯忽闪忽灭，偶尔传来电路短路的噼啪声。楼道口停着一辆破旧的三轮车，车身斑驳，上面堆满了回收的纸板，散发着潮湿的霉味。', timestamp=4, event_type='narration', metadata={}, description='', actions=[])], outgoing_actions=[ActionBinding(action=Action(id='action_1', description='唐宇冷冷地命令刀哥，让他的手下滚开，并且亲自护送夏诗涵和张静离开巷子。', is_key_action=True, metadata={'navigation': 'continue', 'response': '', 'effects': {'world_state_changes': '刀哥和小混混们忌惮唐宇的威势，狼狈离开。夏诗涵和张静对唐宇的勇敢产生好感，情节进入更深的互动阶段。'}}), target_node=None, target_event=None), ActionBinding(action=Action(id='action_2', description='唐宇用一种凌厉的语气警告刀哥，要求他立即向两名女孩道歉并发誓不再骚扰她们。', is_key_action=False, metadata={'navigation': 'stay', 'response': '刀哥满脸恐惧地向夏诗涵和张静道歉，场面短暂冷却，但两名女孩仍然惊魂未定。', 'effects': {'world_state_changes': '唐宇的威信再次得到体现，现场紧张气氛逐渐缓和，但女孩们对事件的恐惧仍未完全消退。'}}), target_node=None, target_event=None), ActionBinding(action=Action(id='action_3', description='唐宇不发一言，只用锐利的目光扫视刀哥和他的手下，制造一种强烈的压迫感，让他们自动散开。', is_key_action=False, metadata={'navigation': 'stay', 'response': '刀哥和小混混们被唐宇的气场震慑，不敢再造次，纷纷离开。女孩们对唐宇的神秘感到好奇。', 'effects': {'world_state_changes': '无形的威慑力让唐宇在女孩心中留下深刻印象，事件结束，唐宇的形象进一步升华。'}}), target_node=None, target_event=None), ActionBinding(action=Action(id='action_4', description='唐宇要求刀哥交出手机并删除所有可能拍摄到的照片或视频，同时威胁若再犯便不再手下留情。', is_key_action=True, metadata={'navigation': 'continue', 'response': '', 'effects': {'world_state_changes': '刀哥的恐惧达到巅峰，他立即服从命令。事件处理干净利落，唐宇展现了果断和保护欲，女孩们心中逐渐燃起信任。'}}), target_node=None, target_event=None)], metadata={'world_state': {'time': '晚上七点，空气闷热，路灯昏黄，光线被吞噬了一半。', 'location': '静海市东郊的小区，巷子尽头。小区老旧，石板路斑驳，远处传来厂区的机油味和金属敲击声。', 'characters': {'唐宇': '刚从地下室出来，手里攥着皱巴巴的塑料袋，里面装着晚饭剩下的半盒饭。他正盘算着如何向方正电子厂老板开口要工钱，状态疲惫但内心隐约涌动着不安。', '夏诗涵': '静海中学学生，身材纤细，面容惊恐，眼眶含泪。被小混混围住，心中害怕到极点。', '张静': '静海中学学生，脸色惨白，情绪极度恐慌。试图用语言喝退混混，但明显力不从心。', '刀哥': '静海校园周边的小混混头目，染着黄头发，对两个女孩心怀不轨。看到唐宇后立刻态度转变，表现出谄媚和畏惧。', '红头发混混': '刀哥的小弟，性格粗鲁，刚开始对唐宇不敬，后被刀哥扇了一巴掌，表现出恐惧和不安。', '其他混混': '刀哥的手下，染着各色头发，动作粗野，语言污秽。见到唐宇后立刻表现出敬畏。'}, 'key_facts': ['唐宇是方正电子厂的员工，工作一个月准备辞职。', '刀哥曾被唐宇教训过，因此对唐宇极度畏惧。', '夏诗涵和张静是唐宇同班同学，正在高考冲刺阶段。', '巷子较为隐蔽，附近没有其他人能够听到呼救声。'], 'story_variable_1': '唐宇的过往和与刀哥的恩怨使他在小混混中有一定威慑力。', 'story_variable_2': '小区的环境和昏暗的灯光加剧了危险感，为事件的发展提供了张力。'}})"
      ]
     },
     "execution_count": 7,
     "metadata": {},
     "output_type": "execute_result"
    }
   ],
   "source": [
    "node"
   ]
  },
  {
   "cell_type": "code",
   "execution_count": 40,
   "id": "5768499b-90d1-4375-9a8d-eeee8f736649",
   "metadata": {},
   "outputs": [
    {
     "data": {
      "text/plain": [
       "Node(id='7188daf1-fff9-4834-b7e2-7d4340f4aec4', scene=\"哈利低声对赫敏和罗恩说道：'昨晚我又做了一个梦……伏地魔，他……他又出现了。'赫敏的眉头立刻蹙起，放下手中的书，专注地看着哈利。她问道：'梦里还有什么细节？任何线索都可能有帮助。'罗恩的脸色变得苍白，他吞了口唾沫，小声嘟囔着：'又是伏地魔？这可不妙。'大厅里的喧闹声似乎渐渐远去，仿佛整个世界都静止了片刻。就在这时，哈利突然感觉到手中的课程表微微发烫，仿佛有什么魔法正在激活。他低头一看，发现课程表上出现了一行奇怪的文字：'黑暗的命运已悄然降临，密室的钥匙藏在古老的遗迹中。'赫敏立刻注意到了课程表的变化，她站起来，语气坚定地说道：'我们必须弄清楚这是什么意思，也许这就是线索。'罗恩却显得犹豫不决：'但这看起来很危险，真的要去追查吗？'\", node_type=<NodeType.SCENE: 'scene'>, events=[Event(id='eb3d2bee-3f2c-448e-9db8-93feccc7e438', speaker='路过的学生', content='听说昨天晚上禁林里有奇怪的声音，你觉得会是什么？', timestamp=1, event_type='dialogue', metadata={}, description='', actions=[]), Event(id='aeeb9405-e822-4c95-a0ba-42dba69139ff', speaker='', content='窗外的天空渐渐阴沉，乌云开始聚集。', timestamp=2, event_type='narration', metadata={}, description='', actions=[])], outgoing_actions=[ActionBinding(action=Action(id='action_1', description='和赫敏一起研究课程表上的文字，试图找到线索。', is_key_action=True, metadata={'navigation': 'continue', 'response': '', 'effects': {'world_state_changes': {'赫敏的态度': '更加专注', '哈利的情绪': '稍微缓解', '发现线索': '可能的密室位置'}}}), target_node=None, target_event=None), ActionBinding(action=Action(id='action_2', description='劝说罗恩加入，提议去图书馆寻找相关资料。', is_key_action=True, metadata={'navigation': 'stay', 'response': '', 'effects': {'world_state_changes': {'罗恩的态度': '从犹豫到勉强同意', '团队': '更加团结'}}}), target_node=None, target_event=None), ActionBinding(action=Action(id='action_3', description='决定暂时忽略课程表的文字，继续日常安排。', is_key_action=True, metadata={'navigation': 'stay', 'response': '你试图忽略课程表上的文字，但内心的不安却挥之不去。', 'effects': {'world_state_changes': {'哈利的情绪': '焦虑加重', '伏地魔的影响': '更加明显'}}}), target_node=None, target_event=None), ActionBinding(action=Action(id='action_4', description='尝试使用魔杖对课程表施法，看能否解读文字的秘密。', is_key_action=True, metadata={'navigation': 'continue', 'response': '', 'effects': {'world_state_changes': {'发现线索': '文字的魔法来源', '事件': '课程表出现新的提示'}}}), target_node=None, target_event=None)], metadata={'world_state': {'time': '上午9点30分', 'location': '霍格沃茨大厅', 'characters': ['哈利波特', '赫敏·格兰杰', '罗恩·韦斯莱', '德拉科·马尔福'], 'key_facts': ['哈利的课程表出现神秘文字', '伏地魔复活正在影响霍格沃茨', '赫敏决定追查线索']}, 'chapter_actions': [{'id': 'action_1', 'description': '和赫敏一起研究课程表上的文字，试图找到线索。', 'navigation': 'continue', 'is_key_action': True, 'effects': {'world_state_changes': {'赫敏的态度': '更加专注', '哈利的情绪': '稍微缓解', '发现线索': '可能的密室位置'}}}, {'id': 'action_2', 'description': '劝说罗恩加入，提议去图书馆寻找相关资料。', 'navigation': 'stay', 'is_key_action': True, 'effects': {'world_state_changes': {'罗恩的态度': '从犹豫到勉强同意', '团队': '更加团结'}}}, {'id': 'action_3', 'description': '决定暂时忽略课程表的文字，继续日常安排。', 'navigation': 'stay', 'is_key_action': True, 'response': '你试图忽略课程表上的文字，但内心的不安却挥之不去。', 'effects': {'world_state_changes': {'哈利的情绪': '焦虑加重', '伏地魔的影响': '更加明显'}}}, {'id': 'action_4', 'description': '尝试使用魔杖对课程表施法，看能否解读文字的秘密。', 'navigation': 'continue', 'is_key_action': True, 'effects': {'world_state_changes': {'发现线索': '文字的魔法来源', '事件': '课程表出现新的提示'}}}]})"
      ]
     },
     "execution_count": 40,
     "metadata": {},
     "output_type": "execute_result"
    }
   ],
   "source": [
    "a"
   ]
  },
  {
   "cell_type": "code",
   "execution_count": 17,
   "id": "0e173590-4180-4dc5-977d-c7ffa0206c6d",
   "metadata": {},
   "outputs": [],
   "source": [
    "new_node = generator.apply_action(new_node[0], 'action_3', node.metadata['world_state'])"
   ]
  },
  {
   "cell_type": "code",
   "execution_count": 20,
   "id": "c3a729c0-1331-4793-8159-396cabf47399",
   "metadata": {},
   "outputs": [
    {
     "data": {
      "text/plain": [
       "(Node(id='92082615-f9fd-41ee-95f4-da1b24341a6a', scene='唐宇微微皱眉，冷冷地扫视刀哥和他的混混小弟们，语气低沉却不容置疑地说道：“向她们道歉，立刻。”刀哥脸色一变，迅速低头哈腰，语气谦卑：“是，唐哥，我们错了！”他带头向夏诗涵和张静鞠了个90度的躬，混混们也纷纷跟着赔礼道歉。夏诗涵的脸上露出一丝惊讶，而张静则终于放松下来，嘴唇微微抿起。巷子里一时间只剩下低声的道歉回荡。刀哥小心翼翼地问唐宇：“唐哥，您看我们还能做点什么？”唐宇冷冷地瞥了他一眼，沉声道：“滚吧，再让我看到你们欺负人，后果自负。”刀哥连连点头，带着小弟们狼狈离开。巷子恢复了宁静，夏诗涵犹豫着开口：“唐宇，谢谢你……今天如果不是你，我们……”张静也轻声附和：“对，谢谢你。”唐宇目光复杂地看着她们，没有回应。天色渐暗，远处灯光逐渐亮起，巷子里蒙上了一层朦胧的光。', node_type=<NodeType.SCENE: 'scene'>, events=[Event(id='05f7d038-eda6-412b-970e-5d2e3fdf88f3', speaker='', content='远处传来小区里的孩子嬉笑声，隐约夹杂着自行车铃的响声。', timestamp=1, event_type='narration', metadata={}, description='', actions=[]), Event(id='38cee4cd-03db-46a1-b74a-8a8b556d498b', speaker='', content='一盏路灯忽然闪了两下，随后亮了起来，巷子里的光线稍显明亮。', timestamp=2, event_type='narration', metadata={}, description='', actions=[])], outgoing_actions=[ActionBinding(action=Action(id='action_1', description='安慰夏诗涵和张静，询问她们是否需要送回家', is_key_action=True, metadata={'navigation': 'continue', 'response': '', 'effects': {'world_state_changes': '唐宇与两位女生关系进一步缓和，她们对唐宇更加信任。'}}), target_node=None, target_event=None), ActionBinding(action=Action(id='action_2', description='沉默不语，转身离开巷子', is_key_action=True, metadata={'navigation': 'continue', 'response': '', 'effects': {'world_state_changes': '唐宇展现出冷漠的一面，与女生们关系变得疏远。'}}), target_node=None, target_event=None), ActionBinding(action=Action(id='action_3', description='提议报警并让女生们自己处理后续问题', is_key_action=True, metadata={'navigation': 'stay', 'response': '', 'effects': {'world_state_changes': '唐宇与女生们关系保持距离，她们对唐宇的印象变得复杂。'}}), target_node=None, target_event=None), ActionBinding(action=Action(id='action_4', description='留下来观察巷子是否还有其他隐患', is_key_action=False, metadata={'navigation': 'stay', 'response': '', 'effects': {'world_state_changes': '唐宇表现出谨慎的一面，可能发现潜在问题。'}}), target_node=None, target_event=None)], metadata={'world_state': {'time': '傍晚，天色渐暗', 'location': '静海小区的狭窄巷子', 'characters': ['唐宇', '夏诗涵', '张静'], 'key_facts': ['刀哥及其混混们被唐宇驱逐', '夏诗涵和张静对唐宇心生感激', '唐宇展现了强大的威望']}, 'chapter_actions': [{'id': 'action_1', 'description': '安慰夏诗涵和张静，询问她们是否需要送回家', 'navigation': 'continue', 'is_key_action': True, 'effects': {'world_state_changes': '唐宇与两位女生关系进一步缓和，她们对唐宇更加信任。'}}, {'id': 'action_2', 'description': '沉默不语，转身离开巷子', 'navigation': 'continue', 'is_key_action': True, 'effects': {'world_state_changes': '唐宇展现出冷漠的一面，与女生们关系变得疏远。'}}, {'id': 'action_3', 'description': '提议报警并让女生们自己处理后续问题', 'navigation': 'stay', 'is_key_action': True, 'effects': {'world_state_changes': '唐宇与女生们关系保持距离，她们对唐宇的印象变得复杂。'}}, {'id': 'action_4', 'description': '留下来观察巷子是否还有其他隐患', 'navigation': 'stay', 'is_key_action': False, 'effects': {'world_state_changes': '唐宇表现出谨慎的一面，可能发现潜在问题。'}}]}),\n",
       " {'time': '傍晚，天色微暗',\n",
       "  'location': '静海小区的狭窄巷子',\n",
       "  'characters': ['唐宇', '夏诗涵', '张静', '刀哥', '混混小弟们'],\n",
       "  'relationships': {'唐宇与刀哥': '曾经教训过刀哥，刀哥对唐宇畏惧',\n",
       "   '唐宇与夏诗涵': '同班同学，关系普通',\n",
       "   '唐宇与张静': '同班同学，关系普通',\n",
       "   '夏诗涵与张静': '好友，两人经常一起行动'},\n",
       "  'action_history': [{'type': 'continue_action',\n",
       "    'action': '威胁刀哥并要求他向两位女生道歉',\n",
       "    'effects': '刀哥忐忑地向女生们道歉，混混们低头认错，唐宇的威望进一步提升。夏诗涵和张静对唐宇心生感激。'}]},\n",
       " '你选择了：威胁刀哥并要求他向两位女生道歉。剧情继续发展...')"
      ]
     },
     "execution_count": 20,
     "metadata": {},
     "output_type": "execute_result"
    }
   ],
   "source": [
    "new_node"
   ]
  },
  {
   "cell_type": "code",
   "execution_count": null,
   "id": "38d04a73-1932-4261-a7f3-1bff33f628ed",
   "metadata": {},
   "outputs": [],
   "source": []
  }
 ],
 "metadata": {
  "kernelspec": {
   "display_name": "Python 3 (ipykernel)",
   "language": "python",
   "name": "python3"
  },
  "language_info": {
   "codemirror_mode": {
    "name": "ipython",
    "version": 3
   },
   "file_extension": ".py",
   "mimetype": "text/x-python",
   "name": "python",
   "nbconvert_exporter": "python",
   "pygments_lexer": "ipython3",
   "version": "3.9.6"
  }
 },
 "nbformat": 4,
 "nbformat_minor": 5
}
